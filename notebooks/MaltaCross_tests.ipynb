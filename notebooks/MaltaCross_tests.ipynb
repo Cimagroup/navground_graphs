{
 "cells": [
  {
   "cell_type": "code",
   "execution_count": 1,
   "id": "bbe1c9c0-9bc2-4002-92c8-c030360f57d3",
   "metadata": {},
   "outputs": [],
   "source": [
    "import numpy as np\n",
    "from navground import sim, core\n",
    "from navground.sim.ui.video import display_video, display_video_from_run, record_video_from_run\n",
    "from navground.sim.notebook import display_in_notebook\n",
    "import matplotlib.pyplot as plt\n",
    "import networkx as nx\n",
    "from navground.sim.ui.render import png_for_world\n",
    "from IPython.display import Image\n",
    "from shapely.geometry import LineString, Point, Polygon, MultiPolygon\n",
    "from shapely.ops import unary_union\n",
    "sim.load_plugins()"
   ]
  },
  {
   "cell_type": "markdown",
   "id": "c3a5aa01-9119-43a9-844a-6fada72dea04",
   "metadata": {},
   "source": [
    "## Simulation without modulation"
   ]
  },
  {
   "cell_type": "code",
   "execution_count": 2,
   "id": "67fee86b-7e0c-4276-8ca6-bb0f796dca29",
   "metadata": {},
   "outputs": [],
   "source": [
    "yaml = f\"\"\"\n",
    "steps: 600\n",
    "time_step: 0.1\n",
    "save_directory: ''\n",
    "record_pose: true\n",
    "record_twist: true\n",
    "record_collisions: true\n",
    "record_deadlocks: true\n",
    "scenario:\n",
    "  type: MaltaCross\n",
    "  groups:\n",
    "    -\n",
    "      type: thymio\n",
    "      number: 4\n",
    "      radius: 0.4\n",
    "      color: [red,blue,yellow,green]\n",
    "      control_period: 0.1\n",
    "      speed_tolerance: 0.02\n",
    "      kinematics:\n",
    "        type: 2WDiff\n",
    "        wheel_axis: 0.6\n",
    "        max_speed: 1.66\n",
    "      behavior:\n",
    "        type: HL\n",
    "        optimal_speed: 1.2\n",
    "        horizon: 5.0\n",
    "        safety_margin: 0.1\n",
    "      state_estimation:\n",
    "        type: Bounded\n",
    "        range: 5.0\n",
    "\"\"\"\n",
    "experiment = sim.load_experiment(yaml)\n",
    "experiment.run()\n",
    "runs = experiment.runs"
   ]
  },
  {
   "cell_type": "code",
   "execution_count": 3,
   "id": "701867ac-6a54-4df9-bdcb-66c51ad5bb38",
   "metadata": {},
   "outputs": [
    {
     "name": "stdout",
     "output_type": "stream",
     "text": [
      "MoviePy - Building file plots/crosswithout.gif with imageio.\n"
     ]
    },
    {
     "name": "stderr",
     "output_type": "stream",
     "text": [
      "                                                                                                                        "
     ]
    }
   ],
   "source": [
    "display_video_from_run(run=runs[0], factor=12.0, fps=30)"
   ]
  },
  {
   "cell_type": "markdown",
   "id": "1aab5cc0-ede5-4661-aa91-b857437c14a6",
   "metadata": {},
   "source": [
    "## Simulation with modulation"
   ]
  },
  {
   "cell_type": "code",
   "execution_count": 4,
   "id": "34b236d3-974a-4de5-b4a1-f790aab61d67",
   "metadata": {},
   "outputs": [],
   "source": [
    "yaml = f\"\"\"\n",
    "steps: 600\n",
    "time_step: 0.1\n",
    "save_directory: ''\n",
    "record_pose: true\n",
    "record_twist: true\n",
    "record_collisions: true\n",
    "record_deadlocks: true\n",
    "scenario:\n",
    "  type: MaltaCross\n",
    "  groups:\n",
    "    -\n",
    "      type: thymio\n",
    "      number: 4\n",
    "      radius: 0.4\n",
    "      color: [red,blue,yellow,green]\n",
    "      control_period: 0.1\n",
    "      speed_tolerance: 0.02\n",
    "      kinematics:\n",
    "        type: 2WDiff\n",
    "        wheel_axis: 0.6\n",
    "        max_speed: 1.66\n",
    "      behavior:\n",
    "        type: HL\n",
    "        optimal_speed: 1.2\n",
    "        horizon: 5.0\n",
    "        safety_margin: 0.1\n",
    "        modulations:\n",
    "        - type: Graphs\n",
    "          enabled: true\n",
    "      state_estimation:\n",
    "        type: Bounded\n",
    "        range: 5.0\n",
    "\"\"\"\n",
    "experiment = sim.load_experiment(yaml)\n",
    "experiment.run()\n",
    "runs = experiment.runs"
   ]
  },
  {
   "cell_type": "code",
   "execution_count": 5,
   "id": "922a511d-ae0c-4792-ab32-117d0213239f",
   "metadata": {},
   "outputs": [
    {
     "name": "stdout",
     "output_type": "stream",
     "text": [
      "MoviePy - Building file plots/crosswith.gif with imageio.\n"
     ]
    },
    {
     "name": "stderr",
     "output_type": "stream",
     "text": [
      "                                                                                                                        "
     ]
    }
   ],
   "source": [
    "display_video_from_run(run=runs[0], factor=12.0, fps=30)"
   ]
  }
 ],
 "metadata": {
  "kernelspec": {
   "display_name": "Python 3 (ipykernel)",
   "language": "python",
   "name": "python3"
  },
  "language_info": {
   "codemirror_mode": {
    "name": "ipython",
    "version": 3
   },
   "file_extension": ".py",
   "mimetype": "text/x-python",
   "name": "python",
   "nbconvert_exporter": "python",
   "pygments_lexer": "ipython3",
   "version": "3.10.12"
  }
 },
 "nbformat": 4,
 "nbformat_minor": 5
}
